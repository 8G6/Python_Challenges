{
 "cells": [
  {
   "cell_type": "code",
   "execution_count": 1,
   "metadata": {},
   "outputs": [
    {
     "name": "stdout",
     "output_type": "stream",
     "text": [
      "Enter a number : KNP19EC010\n",
      "01091 is the reversed input and you have entered 5 non integer characters\n"
     ]
    }
   ],
   "source": [
    "# 1) Write a Python program to reverse a number and also find the sum of digits\n",
    "#  of the number. Prompt the user for input. Make sure that only numbers are accepted.\n",
    "#  Strip all characters from your ktu id ( eg cea14cs001 → 14001 ) Input this to your program.\n",
    "#  Include this as a comment in your code.\n",
    "\n",
    "#KNP19EC010\n",
    "#Script By Devadut S Balan\n",
    "\n",
    "num=input(\"Enter a number : \")\n",
    "num=list(num)\n",
    "num_only=[]\n",
    "non_int=0\n",
    "for i in range(len(num)):\n",
    "    #checking if the number is b/w 1-9\n",
    "    if ord(num[i])>47 and ord(num[i])<58:\n",
    "        num_only.append(num[i])\n",
    "    else:\n",
    "        non_int+=1\n",
    "#reversing and joining as a string\n",
    "num_only=''.join(num_only[::-1])\n",
    "if non_int>1:\n",
    "    c=\"characters\"\n",
    "else:\n",
    "    c=\"character\"\n",
    "    \n",
    "print(num_only+\" is the reversed input and you have entered \"+str(non_int)+\" non integer \"+c)\n",
    "\n",
    "#output when I give ktu id : 01091 is the reversed input and you have entered 5 non integer characters"
   ]
  },
  {
   "cell_type": "code",
   "execution_count": null,
   "metadata": {},
   "outputs": [],
   "source": []
  }
 ],
 "metadata": {
  "kernelspec": {
   "display_name": "Python 3",
   "language": "python",
   "name": "python3"
  },
  "language_info": {
   "codemirror_mode": {
    "name": "ipython",
    "version": 3
   },
   "file_extension": ".py",
   "mimetype": "text/x-python",
   "name": "python",
   "nbconvert_exporter": "python",
   "pygments_lexer": "ipython3",
   "version": "3.8.3"
  }
 },
 "nbformat": 4,
 "nbformat_minor": 4
}
