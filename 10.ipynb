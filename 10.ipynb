{
 "cells": [
  {
   "cell_type": "code",
   "execution_count": 1,
   "metadata": {},
   "outputs": [
    {
     "name": "stdout",
     "output_type": "stream",
     "text": [
      "Select a mode \n",
      "                    1. Direct Mode : Directly claculates the number of digits\n",
      "                    2. DOB mode : Gets yours ktu id and strips all numbers and multiply it to your  \n",
      "                       date of birth and counts the digits of result\n",
      "\n",
      "Enter a number to select a mode  : 2\n",
      "You have selected DOB Mode\n",
      "Enter your KTU ID : KNP19EC010\n",
      "Enter your Day of Birth: 13\n",
      "Numbers stripped from your KTUID is 19010 this done by removing 5 charaters (K N P E C)\n",
      "And finally your result is 247130 and this number have 6 digits\n"
     ]
    }
   ],
   "source": [
    "#10) Write a program to count the digits of a given number using\n",
    "#    Strip all characters from your ktu id ( eg cea14cs001 → 14001 ) multiply it with your\n",
    "#    the date portion of your date of birth and input it to the program. Include the number you got as a\n",
    "#    comment. \n",
    "\n",
    "#KNP19EC010\n",
    "#Script By Devadut S Balan\n",
    "\n",
    "#Filtering function\n",
    "def filter_num_and_mlti_with_dob(a,dob):\n",
    "    a=list(a)\n",
    "    num_only=[]\n",
    "    non_int=0\n",
    "    char=[]\n",
    "    #For Filtring only numbers\n",
    "    for i in range(len(a)):\n",
    "        if ord(a[i])>47 and ord(a[i])<58:\n",
    "            num_only.append(a[i])\n",
    "        else:\n",
    "            non_int+=1\n",
    "            char.append(a[i])\n",
    "    char=\" \".join(char)\n",
    "    date=int(dob)\n",
    "    num=\"\".join(num_only)\n",
    "    print(\"Numbers stripped from your KTUID is \"+num+\" this done by removing \"+str(non_int)+\" charaters \"+'('+char+')')\n",
    "    p=int(num)*date\n",
    "    print(\"And finally your result is \"+str(p)+\" and this number have \"+str(count(p))+' digits')\n",
    "def count(n):\n",
    "    if n == 0:\n",
    "        return 0\n",
    "    return 1 + count(n // 10)\n",
    "x=input(\"Select a mode \\n                    1. Direct Mode : Directly claculates the number of digits\\n                    2. DOB mode : Gets yours ktu id and strips all numbers and multiply it to your  \\n                       date of birth and counts the digits of result\\n\\nEnter a number to select a mode  : \")\n",
    "if x=='1':\n",
    "    print(\"You have selected Direct Mode\")\n",
    "    k=int(input(\"Enter a number : \"))\n",
    "    print('You have entred '+str(k)+' and this number have '+str(count(k))+' digits')\n",
    "if x=='2':\n",
    "        print(\"You have selected DOB Mode\")\n",
    "        k=input(\"Enter your KTU ID : \")\n",
    "        q=input(\"Enter your Day of Birth: \")\n",
    "        filter_num_and_mlti_with_dob(k,q)\n",
    "#inputs and outputs\n",
    "\n",
    "#Select a mode \n",
    "#                    1. Direct Mode : Directly claculates the number of digits\n",
    "#                    2. DOB mode : Gets yours ktu id and strips all numbers and multiply it to your  \n",
    "#                       date of birth and counts the digits of result\n",
    "\n",
    "#Enter a number to select a mode  : 2\n",
    "#You have selected DOB Mode\n",
    "#Enter your KTU ID : KNP19EC010\n",
    "#Enter your Day of Birth: 13\n",
    "#Numbers stripped from your KTUID is 19010 this done by removing 5 charaters (K N P E C)\n",
    "#And finally your result is 247130 and this number have 6 digits"
   ]
  },
  {
   "cell_type": "code",
   "execution_count": null,
   "metadata": {},
   "outputs": [],
   "source": []
  }
 ],
 "metadata": {
  "kernelspec": {
   "display_name": "Python 3",
   "language": "python",
   "name": "python3"
  },
  "language_info": {
   "codemirror_mode": {
    "name": "ipython",
    "version": 3
   },
   "file_extension": ".py",
   "mimetype": "text/x-python",
   "name": "python",
   "nbconvert_exporter": "python",
   "pygments_lexer": "ipython3",
   "version": "3.8.3"
  }
 },
 "nbformat": 4,
 "nbformat_minor": 4
}
