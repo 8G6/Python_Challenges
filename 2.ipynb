{
 "cells": [
  {
   "cell_type": "code",
   "execution_count": 1,
   "metadata": {},
   "outputs": [
    {
     "name": "stdout",
     "output_type": "stream",
     "text": [
      "Enter any number : -34\n",
      "-29.0\n",
      "6\n",
      "100000000000000000015\n"
     ]
    }
   ],
   "source": [
    "#2) Write a Python program to print the value of 22n +n+5 for n provided by the user.\n",
    "#  ( Check for n = 0 -ve and positive numbers)\n",
    "#  Provide output which you obtain if you input the last two digits of your KT?U id as a comment \n",
    "\n",
    "#KNP19EC010\n",
    "#Script By Devadut S Balan\n",
    "\n",
    "n=lambda k:(k**(2*k))+k+5\n",
    "\n",
    "x=int(input(\"Enter any number : \"))\n",
    "\n",
    "#from user(-ve)\n",
    "print(n(x))\n",
    "#0 AS INPUT\n",
    "print(n(0))\n",
    "#Last 2 digits of my KTUID\n",
    "print(n(10))\n",
    "\n"
   ]
  },
  {
   "cell_type": "code",
   "execution_count": null,
   "metadata": {},
   "outputs": [],
   "source": []
  }
 ],
 "metadata": {
  "kernelspec": {
   "display_name": "Python 3",
   "language": "python",
   "name": "python3"
  },
  "language_info": {
   "codemirror_mode": {
    "name": "ipython",
    "version": 3
   },
   "file_extension": ".py",
   "mimetype": "text/x-python",
   "name": "python",
   "nbconvert_exporter": "python",
   "pygments_lexer": "ipython3",
   "version": "3.8.3"
  }
 },
 "nbformat": 4,
 "nbformat_minor": 4
}
