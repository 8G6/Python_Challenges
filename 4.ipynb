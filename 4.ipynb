{
 "cells": [
  {
   "cell_type": "code",
   "execution_count": null,
   "metadata": {},
   "outputs": [
    {
     "name": "stdout",
     "output_type": "stream",
     "text": [
      "\u001b[0m Enter q to exit\n",
      " Enter a year: 19010\n",
      "\u001b[31m   19010 is not a leap year\n",
      "\u001b[0m Enter q to exit\n",
      " Enter a year: 2019\n",
      "\u001b[31m   2019 is not a leap year\n",
      "\u001b[0m Enter q to exit\n",
      " Enter a year: 2020\n",
      "\u001b[32m   2020 is a leap year\n",
      "\u001b[0m Enter q to exit\n"
     ]
    }
   ],
   "source": [
    "#4) Write a Python code to check whether a given year is a leap year or not [An\n",
    "#   year is a leap year if it’s divisible by 4 but not divisible by 100 except for those\n",
    "#   divisible by 400]. Get the year as a user input\n",
    "#   Strip all characters from your ktu id ( eg cea14cs001 → 14001 ) Input this to your program and\n",
    "#   find out whether it is a leap year. Give the result as a comment\n",
    "\n",
    "#KNP19EC010\n",
    "#Script By Devadut S Balan\n",
    "\n",
    "#Some colors for better apperrance \n",
    "red='\\033[31m'\n",
    "green='\\033[32m'\n",
    "rst = '\\033[0m'\n",
    "\n",
    "while True:\n",
    "    print(rst,\"Enter q to exit\")\n",
    "    year=input(\" Enter a year: \")\n",
    "    if year==\"q\":\n",
    "        break\n",
    "    else:\n",
    "        year=int(year)\n",
    "    #checking if year is a leap year if it’s divisible by 4 but not divisible by 100 except for those divisible by 400\n",
    "    if((year%4==0) and (year%100!=0)) or (year%400==0):\n",
    "        print(green,\" \",year,\"is a leap year\")\n",
    "    else:\n",
    "        print(red,\" \",year,\"is not a leap year\")\n",
    "#input = MYKTUID NUMBERS = 19010\n",
    "#output = 19010 is not a leap year\n"
   ]
  },
  {
   "cell_type": "code",
   "execution_count": null,
   "metadata": {},
   "outputs": [],
   "source": []
  },
  {
   "cell_type": "code",
   "execution_count": null,
   "metadata": {},
   "outputs": [],
   "source": []
  }
 ],
 "metadata": {
  "kernelspec": {
   "display_name": "Python 3",
   "language": "python",
   "name": "python3"
  },
  "language_info": {
   "codemirror_mode": {
    "name": "ipython",
    "version": 3
   },
   "file_extension": ".py",
   "mimetype": "text/x-python",
   "name": "python",
   "nbconvert_exporter": "python",
   "pygments_lexer": "ipython3",
   "version": "3.8.3"
  }
 },
 "nbformat": 4,
 "nbformat_minor": 4
}
