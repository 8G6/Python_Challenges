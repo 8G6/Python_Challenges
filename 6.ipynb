{
 "cells": [
  {
   "cell_type": "code",
   "execution_count": 3,
   "metadata": {},
   "outputs": [
    {
     "name": "stdout",
     "output_type": "stream",
     "text": [
      "\u001b[0m Enter q to exit\n",
      " Enter a string : abcd\n",
      "\u001b[31m No abcd is not a Palindrome\n",
      "\u001b[0m Enter q to exit\n",
      " Enter a string : aibohphobia\n",
      "\u001b[32m Bingo! aibohphobia is a Palindrome\n",
      "\u001b[0m Enter q to exit\n",
      " Enter a string : q\n"
     ]
    }
   ],
   "source": [
    "#6) Write a Python code to determine whether the given string is a Palindrome or\n",
    "#   not using slicing. Do not use any string function. https://onlinetexttools.com/create-text-palindrome\n",
    "#   Input the random quote from problem 3 and generate a palindrome. Test it with your program.\n",
    "#   Include the palindrome as a comment. \n",
    "\n",
    "#KNP19EC010\n",
    "#Script By Devadut S Balan\n",
    "\n",
    "#Some colors for better apperrance \n",
    "red='\\033[31m'\n",
    "green='\\033[32m'\n",
    "rst = '\\033[0m'\n",
    "\n",
    "while True:\n",
    "    print(rst,\"Enter q to exit\")\n",
    "    x=input(\" Enter a string : \")\n",
    "    if x==\"q\" or x=='Q':\n",
    "        break\n",
    "    k=list(x)\n",
    "    #Reversing the input and string as a string\n",
    "    rev_inp=\"\".join(k[::-1])\n",
    "    if x==rev_inp:\n",
    "        print(green,\"Bingo! \"+x+\" is a Palindrome\")\n",
    "    else:\n",
    "        print(red,\"No \"+x+\" is not a Palindrome\")\n",
    "#input : aibohphobia\n",
    "#output : Bingo! aibohphobia is a Palindrome"
   ]
  },
  {
   "cell_type": "code",
   "execution_count": null,
   "metadata": {},
   "outputs": [],
   "source": []
  }
 ],
 "metadata": {
  "kernelspec": {
   "display_name": "Python 3",
   "language": "python",
   "name": "python3"
  },
  "language_info": {
   "codemirror_mode": {
    "name": "ipython",
    "version": 3
   },
   "file_extension": ".py",
   "mimetype": "text/x-python",
   "name": "python",
   "nbconvert_exporter": "python",
   "pygments_lexer": "ipython3",
   "version": "3.8.3"
  }
 },
 "nbformat": 4,
 "nbformat_minor": 4
}
