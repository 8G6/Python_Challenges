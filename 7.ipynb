{
 "cells": [
  {
   "cell_type": "code",
   "execution_count": null,
   "metadata": {},
   "outputs": [
    {
     "name": "stdout",
     "output_type": "stream",
     "text": [
      "\u001b[0m \n",
      "\n",
      "Enter q to exit\n",
      "Enter A password : abcd1234\n",
      "\n",
      "\n",
      "\u001b[31m Password don't have any upper case \n",
      "\u001b[32m Password have numbers (4 found )\n",
      "\u001b[32m Password have lower case (4 found )\n",
      "\u001b[31m Password don't have any  special character \n",
      "\u001b[32m Password have required length (8 is the given string length )\n",
      "\u001b[31m \n",
      " Your Password don't match  more than one of  the requirments\n",
      "\u001b[0m \n",
      "\n",
      "Enter q to exit\n"
     ]
    }
   ],
   "source": [
    "#7) Write a Python program to check the validity of a password given by the user.\n",
    "\n",
    "#   The Password should satisfy the following criteria:\n",
    "\n",
    "#   1. Contains at least one letter between a and z\n",
    "#   2. Contains at least one number between 0 and 9\n",
    "#   3. Contains at least one letter between A and Z\n",
    "#   4. Contains at least one special character from $, #, @\n",
    "#   5. Minimum length of password: 8\n",
    "#   Go to https://passwordsgenerator.net/ generate a random password and give it to your program\n",
    "#   and test. Include the generated password as a comment \n",
    "\n",
    "#KNP19EC010\n",
    "#Script By Devadut S Balan\n",
    "\n",
    "#Some colors for better apperrance \n",
    "red='\\033[31m'\n",
    "green='\\033[32m'\n",
    "rst = '\\033[0m'\n",
    "while True:\n",
    "    print(rst,\"\\n\\nEnter q to exit\")\n",
    "    x=input(\"Enter A password : \")\n",
    "    if x==\"q\":\n",
    "        break\n",
    "    print('\\n')\n",
    "    k=list(x)\n",
    "    sp_char=['!','@','#','%','^','&','*','-','_','+','=','(',')']\n",
    "    caps,small,num,char=0,0,0,0\n",
    "    for i in k:\n",
    "        if ord(i)>64 and ord(i)<91:\n",
    "            caps+=1\n",
    "        elif ord(i)>96 and ord(i)<123:\n",
    "            small+=1\n",
    "        elif ord(i)>47 and ord(i)<58:\n",
    "            num+=1\n",
    "        elif i in sp_char:\n",
    "            char+=1\n",
    "\n",
    "    final_token=0\n",
    "\n",
    "    if caps>0:\n",
    "        print(green,\"Password have upper case (\"+str(caps)+' found )')\n",
    "        final_token+=1\n",
    "    elif caps==0:\n",
    "        print(red,\"Password don't have any upper case \")\n",
    "    \n",
    "    if num>0:\n",
    "        print(green,\"Password have numbers (\"+str(num)+' found )')\n",
    "        final_token+=1\n",
    "    elif num==0:\n",
    "        print(red,\"Password don't have any numbers \")\n",
    "    \n",
    "    if small>0:\n",
    "        print(green,\"Password have lower case (\"+str(small)+' found )')\n",
    "        final_token+=1\n",
    "    elif small==0:\n",
    "        print(red,\"Password don't have any lower case \")\n",
    "    \n",
    "    if char>0:\n",
    "        print(green,\"Password have special character (\"+str(char)+' found )')\n",
    "        final_token+=1\n",
    "    elif char==0:\n",
    "        print(red,\"Password don't have any  special character \")\n",
    "    \n",
    "    if len(k)>=8:\n",
    "        print(green,\"Password have required length (\"+str(len(k))+' is the given string length )')\n",
    "        final_token+=1\n",
    "    elif len(k)<8:\n",
    "        print(red,\"Password don't have required length \")\n",
    "        \n",
    "    if final_token==5:\n",
    "        print(green,\"\\n Your Password matches all requirments\")\n",
    "    elif final_token==4:\n",
    "        print(red,\"\\n Your Password don't match one  of  the requirments\")\n",
    "    else:\n",
    "        print(red,\"\\n Your Password don't match  more than one of  the requirments\")\n",
    "\n",
    "#input : xNRjC7xZ=u\n",
    "#output :\n",
    "#         Password have upper case (4 found )\n",
    "#         Password have numbers (4 found )\n",
    "#         Password have lower case (4 found )\n",
    "#         Password have special character (1 found )\n",
    "#         Password have required length (10 is the given string length )\n",
    " \n",
    "#         Your Password matches all requirments"
   ]
  },
  {
   "cell_type": "code",
   "execution_count": 6,
   "metadata": {},
   "outputs": [
    {
     "data": {
      "text/plain": [
       "57"
      ]
     },
     "execution_count": 6,
     "metadata": {},
     "output_type": "execute_result"
    }
   ],
   "source": [
    "ord('9')"
   ]
  },
  {
   "cell_type": "code",
   "execution_count": null,
   "metadata": {},
   "outputs": [],
   "source": []
  }
 ],
 "metadata": {
  "kernelspec": {
   "display_name": "Python 3",
   "language": "python",
   "name": "python3"
  },
  "language_info": {
   "codemirror_mode": {
    "name": "ipython",
    "version": 3
   },
   "file_extension": ".py",
   "mimetype": "text/x-python",
   "name": "python",
   "nbconvert_exporter": "python",
   "pygments_lexer": "ipython3",
   "version": "3.8.3"
  }
 },
 "nbformat": 4,
 "nbformat_minor": 4
}
