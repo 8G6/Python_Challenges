{
 "cells": [
  {
   "cell_type": "code",
   "execution_count": 1,
   "metadata": {},
   "outputs": [
    {
     "name": "stdout",
     "output_type": "stream",
     "text": [
      "Enter a limit : 30\n",
      "1 is not even\n",
      "2 is even and squre = 4\n",
      "3 is not even\n",
      "4 is even and squre = 16\n",
      "5 is not even\n",
      "6 is even and squre = 36\n",
      "7 is not even\n",
      "8 is even and squre = 64\n",
      "9 is not even\n",
      "10 is even and squre = 100\n",
      "11 is not even\n",
      "12 is even and squre = 144\n",
      "13 is not even\n",
      "14 is even and squre = 196\n",
      "15 is not even\n",
      "16 is even and squre = 256\n",
      "17 is not even\n",
      "18 is even and squre = 324\n",
      "19 is not even\n",
      "20 is even and squre = 400\n",
      "21 is not even\n",
      "22 is even and squre = 484\n",
      "23 is not even\n",
      "24 is even and squre = 576\n",
      "25 is not even\n",
      "26 is even and squre = 676\n",
      "27 is not even\n",
      "28 is even and squre = 784\n",
      "29 is not even\n",
      "30 is even and squre = 900\n"
     ]
    }
   ],
   "source": [
    "#9) Write a lambda function to find the squares of even numbers upto a\n",
    "#   limit given by user\n",
    "\n",
    "\n",
    "#KNP19EC010\n",
    "#Script By Devadut S Balan\n",
    "\n",
    "\n",
    "x=int(input(\"Enter a limit : \"))\n",
    "main = lambda n :str(n)+\" is even and squre = \"+str(n**2) if n%2==0 else str(n)+' is not even'\n",
    "out=[main(i) for i in range(1,x+1)]\n",
    "for i in out:\n",
    "    print(i)\n",
    "#input 30\n",
    "#0utput\n",
    "#Enter a limit : 30\n",
    "#1 is not even\n",
    "#2 is even and squre = 4\n",
    "#3 is not even\n",
    "#4 is even and squre = 16\n",
    "#5 is not even\n",
    "#6 is even and squre = 36\n",
    "#7 is not even\n",
    "#8 is even and squre = 64\n",
    "#9 is not even\n",
    "#10 is even and squre = 100\n",
    "#11 is not even\n",
    "#12 is even and squre = 144\n",
    "#13 is not even\n",
    "#14 is even and squre = 196\n",
    "#15 is not even\n",
    "#16 is even and squre = 256\n",
    "#17 is not even\n",
    "#18 is even and squre = 324\n",
    "#19 is not even\n",
    "#20 is even and squre = 400\n",
    "#21 is not even\n",
    "#22 is even and squre = 484\n",
    "#23 is not even\n",
    "#24 is even and squre = 576\n",
    "#25 is not even\n",
    "#26 is even and squre = 676\n",
    "#27 is not even\n",
    "#28 is even and squre = 784\n",
    "#29 is not even\n",
    "#30 is even and squre = 900"
   ]
  },
  {
   "cell_type": "code",
   "execution_count": null,
   "metadata": {},
   "outputs": [],
   "source": []
  }
 ],
 "metadata": {
  "kernelspec": {
   "display_name": "Python 3",
   "language": "python",
   "name": "python3"
  },
  "language_info": {
   "codemirror_mode": {
    "name": "ipython",
    "version": 3
   },
   "file_extension": ".py",
   "mimetype": "text/x-python",
   "name": "python",
   "nbconvert_exporter": "python",
   "pygments_lexer": "ipython3",
   "version": "3.8.3"
  }
 },
 "nbformat": 4,
 "nbformat_minor": 4
}
